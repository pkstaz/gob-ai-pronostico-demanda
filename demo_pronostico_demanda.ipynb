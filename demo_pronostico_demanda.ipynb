{
 "cells": [
  {
   "cell_type": "markdown",
   "id": "03485c06",
   "metadata": {},
   "source": [
    "# Demo: Pronóstico de Demanda para Trámites Presenciales\n",
    "\n",
    "Bienvenidos a la demo de IA predictiva en Red Hat OpenShift AI. Mostraremos cómo, a partir de datos históricos, podemos anticipar la demanda y tomar decisiones estratégicas en el sector público."
   ]
  },
  {
   "cell_type": "markdown",
   "id": "ae017416",
   "metadata": {},
   "source": [
    "## Fase 1: Preparación del Entorno y Datos\n",
    "\n",
    "En esta sección cargamos los datos históricos de la sucursal de atención ciudadana."
   ]
  },
  {
   "cell_type": "code",
   "execution_count": null,
   "id": "403efe5e",
   "metadata": {},
   "outputs": [],
   "source": [
    "# Importar librerías\n",
    "import pandas as pd\n",
    "import matplotlib.pyplot as plt\n",
    "import seaborn as sns\n",
    "\n",
    "# Cargar datos\n",
    "df = pd.read_csv('datos_sucursal.csv', parse_dates=['fecha'])\n",
    "\n",
    "# Mostrar las primeras filas\n",
    "df.head()"
   ]
  },
  {
   "cell_type": "markdown",
   "id": "0538a158",
   "metadata": {},
   "source": [
    "Como pueden ver, tenemos la fecha, el número de trámites y otra información relevante. Nuestro objetivo es usar estos datos para encontrar patrones."
   ]
  },
  {
   "cell_type": "markdown",
   "id": "a4ac7509",
   "metadata": {},
   "source": [
    "## Fase 2: Visualización y Modelo de Pronóstico\n",
    "\n",
    "Visualizamos la demanda histórica y entrenamos un modelo de pronóstico."
   ]
  },
  {
   "cell_type": "code",
   "execution_count": null,
   "id": "d7660794",
   "metadata": {},
   "outputs": [],
   "source": [
    "# Visualización de la demanda histórica\n",
    "plt.figure(figsize=(12,6))\n",
    "sns.lineplot(x='fecha', y='tramites_atendidos', data=df, label='Histórico')\n",
    "plt.title('Demanda histórica de trámites atendidos')\n",
    "plt.xlabel('Fecha')\n",
    "plt.ylabel('Trámites atendidos')\n",
    "plt.legend()\n",
    "plt.show()"
   ]
  },
  {
   "cell_type": "markdown",
   "id": "0c4ac751",
   "metadata": {},
   "source": [
    "Al visualizar los datos, podemos ver tendencias claras. Hay picos y valles recurrentes, y podemos inferir que la demanda varía según el día de la semana o si hay un día festivo."
   ]
  },
  {
   "cell_type": "code",
   "execution_count": null,
   "id": "f9e62637",
   "metadata": {},
   "outputs": [],
   "source": [
    "# Modelo de pronóstico simple usando Prophet\n",
    "from prophet import Prophet\n",
    "\n",
    "df_prophet = df.rename(columns={'fecha': 'ds', 'tramites_atendidos': 'y'})[['ds', 'y']]\n",
    "\n",
    "model = Prophet()\n",
    "model.fit(df_prophet)\n",
    "\n",
    "# Generar predicción para las próximas 30 días\n",
    "future = model.make_future_dataframe(periods=30)\n",
    "forecast = model.predict(future)\n",
    "\n",
    "# Graficar resultados\n",
    "plt.figure(figsize=(12,6))\n",
    "plt.plot(df_prophet['ds'], df_prophet['y'], label='Histórico', color='blue')\n",
    "plt.plot(forecast['ds'], forecast['yhat'], label='Predicción', color='orange', linestyle='dashed')\n",
    "plt.title('Pronóstico de demanda de trámites')\n",
    "plt.xlabel('Fecha')\n",
    "plt.ylabel('Trámites atendidos')\n",
    "plt.legend()\n",
    "plt.show()"
   ]
  },
  {
   "cell_type": "markdown",
   "id": "1843d07b",
   "metadata": {},
   "source": [
    "La línea azul muestra los datos históricos. La línea punteada, que se proyecta hacia adelante, es la predicción de nuestro modelo para las próximas semanas."
   ]
  },
  {
   "cell_type": "markdown",
   "id": "e1476361",
   "metadata": {},
   "source": [
    "## Fase 3: De la Predicción a la Acción Estratégica\n",
    "\n",
    "Mostramos la tabla con los datos de la predicción y conectamos con un modelo LLM para recomendaciones."
   ]
  },
  {
   "cell_type": "code",
   "execution_count": null,
   "id": "a85fe793",
   "metadata": {},
   "outputs": [],
   "source": [
    "# Mostrar tabla de predicción para los próximos días\n",
    "prediccion = forecast[['ds', 'yhat']].tail(10)\n",
    "prediccion.rename(columns={'ds': 'fecha', 'yhat': 'tramites_predichos'}, inplace=True)\n",
    "prediccion"
   ]
  },
  {
   "cell_type": "markdown",
   "id": "00b30ec2",
   "metadata": {},
   "source": [
    "El verdadero valor de la IA está en cómo usamos esta información para tomar decisiones: optimizar personal, mejorar el servicio y planificar recursos."
   ]
  },
  {
   "cell_type": "code",
   "execution_count": null,
   "id": "b18a9d71",
   "metadata": {},
   "outputs": [],
   "source": [
    "# Conexión a LLM vía vLLM en OpenShift AI (con token)\n",
    "import requests\n",
    "\n",
    "ENDPOINT = \"ENDPOINT/v1\"\n",
    "MODEL_NAME = \"MODEL_NAME\"\n",
    "API_KEY = \"API_KEY\"\n",
    "\n",
    "def obtener_recomendaciones(prompt):\n",
    "    url = f\"{ENDPOINT}/completions\"\n",
    "    payload = {\n",
    "        \"model\": MODEL_NAME,\n",
    "        \"prompt\": prompt,\n",
    "        \"max_tokens\": 200\n",
    "    }\n",
    "    headers = {\n",
    "        \"Authorization\": f\"Bearer {API_KEY}\",\n",
    "        \"Content-Type\": \"application/json\"\n",
    "    }\n",
    "    response = requests.post(url, json=payload, headers=headers)\n",
    "    response.raise_for_status()\n",
    "    return response.json()[\"choices\"][0][\"text\"]\n",
    "\n",
    "prompt = f\"Según la predicción, el próximo martes se esperan {int(prediccion.iloc[-1]['tramites_predichos'])} trámites. ¿Qué recomendaciones estratégicas puedes dar para optimizar la atención ciudadana ese día?\"\n",
    "recomendaciones = obtener_recomendaciones(prompt)\n",
    "print(recomendaciones)\n"
   ]
  },
  {
   "cell_type": "code",
   "execution_count": null,
   "id": "4ff08900",
   "metadata": {},
   "outputs": [],
   "source": [
    "# Pronóstico para una fecha específica o rango de fechas\n",
    "from ipywidgets import widgets, interact\n",
    "import pandas as pd\n",
    "from datetime import datetime\n",
    "\n",
    "\n",
    "# Widget para seleccionar rango de fechas\n",
    "fecha_min = forecast['ds'].min()\n",
    "fecha_max = forecast['ds'].max()\n",
    "fecha_selector = widgets.SelectionRangeSlider(\n",
    "    options=[str(d.date()) for d in pd.date_range(fecha_min, fecha_max)],\n",
    "    index=(0, len(pd.date_range(fecha_min, fecha_max))-1),\n",
    "    description='Rango:',\n",
    "    orientation='horizontal',\n",
    "    layout={'width': '800px'}\n",
    " )\n",
    "\n",
    "@interact(rango=fecha_selector)\n",
    "def mostrar_pronostico(rango):\n",
    "    inicio, fin = rango\n",
    "    df_rango = forecast[(forecast['ds'] >= pd.to_datetime(inicio)) & (forecast['ds'] <= pd.to_datetime(fin))][['ds', 'yhat']].copy()\n",
    "    df_rango.rename(columns={'ds': 'fecha', 'yhat': 'tramites_predichos'}, inplace=True)\n",
    "    display(df_rango)\n",
    "    plt.figure(figsize=(12,6))\n",
    "    plt.plot(df_rango['fecha'], df_rango['tramites_predichos'], label='Predicción', color='orange', linestyle='dashed')\n",
    "    plt.title('Pronóstico de demanda para el rango seleccionado')\n",
    "    plt.xlabel('Fecha')\n",
    "    plt.ylabel('Trámites atendidos')\n",
    "    plt.legend()\n",
    "    plt.show()"
   ]
  }
 ],
 "metadata": {
  "language_info": {
   "name": "python"
  }
 },
 "nbformat": 4,
 "nbformat_minor": 5
}
