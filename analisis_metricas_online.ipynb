{
 "cells": [
  {
   "cell_type": "markdown",
   "id": "efd2951e",
   "metadata": {},
   "source": [
    "# Análisis de Métricas de Trámites Online\n",
    "\n",
    "Este notebook analiza las métricas de trámites online y recursos de infraestructura (CPU, RAM, storage, input/output) cada 30 minutos."
   ]
  },
  {
   "cell_type": "code",
   "execution_count": null,
   "id": "ec40e28b",
   "metadata": {},
   "outputs": [],
   "source": [
    "import os\n",
    "import pandas as pd\n",
    "\n",
    "csv_path = 'metricas_tramites_online.csv'\n",
    "if not os.path.exists(csv_path):\n",
    "    import subprocess\n",
    "    subprocess.run(['python', 'generar_metricas_online.py'], check=True)\n",
    "\n",
    "df = pd.read_csv(csv_path)\n",
    "df.head()"
   ]
  },
  {
   "cell_type": "markdown",
   "id": "835dcfff",
   "metadata": {},
   "source": [
    "## Visualización básica de las métricas"
   ]
  },
  {
   "cell_type": "code",
   "execution_count": null,
   "id": "0b8526f2",
   "metadata": {},
   "outputs": [],
   "source": [
    "import matplotlib.pyplot as plt\n",
    "\n",
    "plt.figure(figsize=(14,6))\n",
    "plt.plot(df['fecha_hora'], df['tramites_online'], label='Trámites Online')\n",
    "plt.plot(df['fecha_hora'], df['cpu_usage'], label='CPU (%)', alpha=0.7)\n",
    "plt.plot(df['fecha_hora'], df['ram_usage'], label='RAM (GB)', alpha=0.7)\n",
    "plt.plot(df['fecha_hora'], df['storage_usage'], label='Storage (GB)', alpha=0.7)\n",
    "plt.legend()\n",
    "plt.title('Métricas de Trámites Online y Recursos')\n",
    "plt.xlabel('Fecha y Hora')\n",
    "plt.ylabel('Valor')\n",
    "plt.xticks(rotation=45)\n",
    "plt.tight_layout()\n",
    "plt.show()"
   ]
  }
 ],
 "metadata": {
  "language_info": {
   "name": "python"
  }
 },
 "nbformat": 4,
 "nbformat_minor": 5
}
