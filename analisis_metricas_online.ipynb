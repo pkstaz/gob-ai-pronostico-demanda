{
 "cells": [
  {
   "cell_type": "markdown",
   "id": "efd2951e",
   "metadata": {},
   "source": [
    "# Análisis de Métricas de Trámites Online\n",
    "\n",
    "Este notebook analiza las métricas de trámites online y recursos de infraestructura (CPU, RAM, storage, input/output) cada 30 minutos."
   ]
  },
  {
   "cell_type": "code",
   "execution_count": null,
   "id": "ec40e28b",
   "metadata": {},
   "outputs": [],
   "source": [
    "import os\n",
    "import pandas as pd\n",
    "\n",
    "csv_path = 'metricas_tramites_online.csv'\n",
    "if not os.path.exists(csv_path):\n",
    "    import subprocess\n",
    "    subprocess.run(['python', 'generar_metricas_online.py'], check=True)\n",
    "\n",
    "df = pd.read_csv(csv_path)\n",
    "df.head()"
   ]
  },
  {
   "cell_type": "markdown",
   "id": "835dcfff",
   "metadata": {},
   "source": [
    "## Visualización básica de las métricas"
   ]
  },
  {
   "cell_type": "code",
   "execution_count": null,
   "id": "0b8526f2",
   "metadata": {},
   "outputs": [],
   "source": [
    "import matplotlib.pyplot as plt\n",
    "\n",
    "fig, axs = plt.subplots(4, 1, figsize=(14, 16), sharex=True)\n",
    "\n",
    "axs[0].plot(df['fecha_hora'], df['tramites_online'], color='blue')\n",
    "axs[0].set_title('Trámites Online')\n",
    "axs[0].set_ylabel('Cantidad')\n",
    "\n",
    "axs[1].plot(df['fecha_hora'], df['cpu_usage'], color='red')\n",
    "axs[1].set_title('CPU Usage (%)')\n",
    "axs[1].set_ylabel('%')\n",
    "\n",
    "axs[2].plot(df['fecha_hora'], df['ram_usage'], color='green')\n",
    "axs[2].set_title('RAM Usage (GB)')\n",
    "axs[2].set_ylabel('GB')\n",
    "\n",
    "axs[3].plot(df['fecha_hora'], df['storage_usage'], color='purple')\n",
    "axs[3].set_title('Storage Usage (GB)')\n",
    "axs[3].set_ylabel('GB')\n",
    "axs[3].set_xlabel('Fecha y Hora')\n",
    "\n",
    "plt.xticks(rotation=45)\n",
    "plt.tight_layout()\n",
    "plt.show()"
   ]
  }
 ],
 "metadata": {
  "language_info": {
   "name": "python"
  }
 },
 "nbformat": 4,
 "nbformat_minor": 5
}
