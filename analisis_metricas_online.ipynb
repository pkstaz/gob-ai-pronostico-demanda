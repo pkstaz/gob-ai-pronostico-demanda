{
 "cells": [
  {
   "cell_type": "markdown",
   "id": "efd2951e",
   "metadata": {},
   "source": [
    "# Análisis de Métricas de Trámites Online\n",
    "\n",
    "Este notebook analiza las métricas de trámites online y recursos de infraestructura (CPU, RAM, storage, input/output) cada 30 minutos."
   ]
  },
  {
   "cell_type": "code",
   "execution_count": null,
   "id": "ec40e28b",
   "metadata": {},
   "outputs": [],
   "source": [
    "import os\n",
    "import pandas as pd\n",
    "\n",
    "csv_path = 'metricas_tramites_online.csv'\n",
    "if not os.path.exists(csv_path):\n",
    "    import subprocess\n",
    "    subprocess.run(['python', 'generar_metricas_online.py'], check=True)\n",
    "\n",
    "df = pd.read_csv(csv_path)\n",
    "df.head()"
   ]
  },
  {
   "cell_type": "code",
   "execution_count": null,
   "id": "7f7b2ce6",
   "metadata": {},
   "outputs": [],
   "source": [
    "import json\n",
    "\n",
    "with open('limites_metricas_online.json') as f:\n",
    "    limites = json.load(f)\n",
    "limites"
   ]
  },
  {
   "cell_type": "markdown",
   "id": "835dcfff",
   "metadata": {},
   "source": [
    "## Visualización básica de las métricas"
   ]
  },
  {
   "cell_type": "code",
   "execution_count": null,
   "id": "0b8526f2",
   "metadata": {},
   "outputs": [],
   "source": [
    "import matplotlib.pyplot as plt\n",
    "\n",
    "fig, axs = plt.subplots(4, 1, figsize=(14, 16), sharex=True)\n",
    "\n",
    "axs[0].plot(df['fecha_hora'], df['tramites_online'], color='blue')\n",
    "axs[0].set_title('Trámites Online')\n",
    "axs[0].set_ylabel('Cantidad')\n",
    "\n",
    "axs[1].plot(df['fecha_hora'], df['cpu_usage'], color='red', label='CPU Usage')\n",
    "axs[1].axhline(limites['cpu_usage'], color='black', linestyle='dashed', label='Límite CPU')\n",
    "axs[1].set_title('CPU Usage (%)')\n",
    "axs[1].set_ylabel('%')\n",
    "axs[1].legend()\n",
    "\n",
    "axs[2].plot(df['fecha_hora'], df['ram_usage'], color='green', label='RAM Usage')\n",
    "axs[2].axhline(limites['ram_usage'], color='black', linestyle='dashed', label='Límite RAM')\n",
    "axs[2].set_title('RAM Usage (GB)')\n",
    "axs[2].set_ylabel('GB')\n",
    "axs[2].legend()\n",
    "\n",
    "axs[3].plot(df['fecha_hora'], df['storage_usage'], color='purple', label='Storage Usage')\n",
    "axs[3].axhline(limites['storage_usage'], color='black', linestyle='dashed', label='Límite Storage')\n",
    "axs[3].set_title('Storage Usage (GB)')\n",
    "axs[3].set_ylabel('GB')\n",
    "axs[3].set_xlabel('Fecha y Hora')\n",
    "axs[3].legend()\n",
    "\n",
    "plt.xticks(rotation=45)\n",
    "plt.tight_layout()\n",
    "plt.show()"
   ]
  },
  {
   "cell_type": "code",
   "execution_count": null,
   "id": "7b8c049b",
   "metadata": {},
   "outputs": [],
   "source": [
    "# Análisis automático de los datos usando un LLM\n",
    "import requests\n",
    "\n",
    "ENDPOINT = \"<ENDPOINT>\"\n",
    "MODEL_NAME = \"<MODEL_NAME>\"\n",
    "API_KEY = \"<API_KEY>\"\n",
    "\n",
    "# Resumir los datos para enviar al LLM\n",
    "resumen = df.describe().to_string()\n",
    "prompt = f\"Analiza las siguientes métricas de trámites online y recursos cada 30 minutos. Entrega insights, anomalías y recomendaciones para optimización.\\n\\n{resumen}\" \n",
    "\n",
    "def obtener_analisis_llm(prompt):\n",
    "    url = f\"{ENDPOINT}/completions\"\n",
    "    payload = {\n",
    "        \"model\": MODEL_NAME,\n",
    "        \"prompt\": prompt,\n",
    "        \"max_tokens\": 400\n",
    "    }\n",
    "    headers = {\n",
    "        \"Authorization\": f\"Bearer {API_KEY}\",\n",
    "        \"Content-Type\": \"application/json\"\n",
    "    }\n",
    "    response = requests.post(url, json=payload, headers=headers)\n",
    "    response.raise_for_status()\n",
    "    return response.json()[\"choices\"][0][\"text\"]\n",
    "\n",
    "analisis_llm = obtener_analisis_llm(prompt)\n",
    "print(analisis_llm)\n"
   ]
  }
 ],
 "metadata": {
  "language_info": {
   "name": "python"
  }
 },
 "nbformat": 4,
 "nbformat_minor": 5
}
